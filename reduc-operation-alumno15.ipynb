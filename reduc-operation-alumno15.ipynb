{
 "cells": [
  {
   "cell_type": "markdown",
   "id": "f942d288-be01-42cd-9b84-83529c6769be",
   "metadata": {},
   "source": [
    "### Reduction operation: the sum of the numbers in the range [0, a)"
   ]
  },
  {
   "cell_type": "code",
   "execution_count": null,
   "id": "496946fa-2a28-4c1d-8a6a-2ee0b8fd8ced",
   "metadata": {},
   "outputs": [],
   "source": [
    "import time\n",
    "import sys\n",
    "\n",
    "def reduc_operation(a):\n",
    "    \"\"\"Compute the sum of the numbers in the range [0, a).\"\"\"\n",
    "    x = 0\n",
    "    for i in range(a):\n",
    "        x += i\n",
    "    return x\n",
    "\n",
    "# Secuencial\n",
    "\n",
    "value =  sys.argv[0]\n",
    "\n",
    "initialTime = time.time()\n",
    "suma = reduc_operation(value)\n",
    "finalTime = time.time()\n",
    "\n",
    "print(\"Time taken by reduction operation:\", (finalTime - initialTime), \"seconds\")\n",
    "\n",
    "# Utilizando las operaciones mágicas de ipython\n",
    "%timeit -r 2 reduc_operation(value)\n",
    "\n",
    "print(f\"\\n \\t Computing the sum of numbers in the range [0, value): {suma}\\n\")"
   ]
  },
  {
   "cell_type": "markdown",
   "id": "1e10b0f9-bfa4-4cea-9341-eca238d5d928",
   "metadata": {},
   "source": [
    "### 3.2 a)"
   ]
  },
  {
   "cell_type": "code",
   "execution_count": 3,
   "id": "e5911b7f-e50a-4315-af78-84291d69053f",
   "metadata": {},
   "outputs": [
    {
     "name": "stdout",
     "output_type": "stream",
     "text": [
      "192 ms ± 173 µs per loop (mean ± std. dev. of 2 runs, 1 loop each)\n",
      "30.1 ms ± 166 µs per loop (mean ± std. dev. of 2 runs, 10 loops each)\n",
      "\n",
      " \t Computing the sum of numbers in the range [0, value): 499999500000\n",
      "\n"
     ]
    }
   ],
   "source": [
    "def reduc_operation(a):\n",
    "    \"\"\"Compute the sum of the numbers in the range [0, a).\"\"\"\n",
    "    x = 0\n",
    "    for i in a:\n",
    "        x += i\n",
    "    return x\n",
    "\n",
    "# Secuencial\n",
    "\n",
    "value =  sys.argv[0]\n",
    "value_list= [i for i in range(value)]\n",
    "\n",
    "%timeit -r 2 reduc_operation(value_list)\n",
    "\n",
    "# Utilizando las operaciones mágicas de ipython\n",
    "%timeit -r 2 sum(value_list)\n",
    "suma = sum(value_list)\n",
    "print(f\"\\n \\t Computing the sum of numbers in the range [0, value): {suma}\\n\")"
   ]
  },
  {
   "cell_type": "markdown",
   "id": "d90e7f19-0661-4f37-a4dc-1d8e46a5ca91",
   "metadata": {},
   "source": [
    "### 3.2 b)"
   ]
  },
  {
   "cell_type": "code",
   "execution_count": 6,
   "id": "ba46d520-0e3f-4b90-bce1-2ce54b848364",
   "metadata": {},
   "outputs": [
    {
     "name": "stdout",
     "output_type": "stream",
     "text": [
      "628 ms ± 7.16 ms per loop (mean ± std. dev. of 2 runs, 1 loop each)\n",
      "1.42 ms ± 7.56 µs per loop (mean ± std. dev. of 2 runs, 1,000 loops each)\n",
      "\n",
      " \t Computing the sum of numbers in the range [0, value): 499999500000\n",
      "\n"
     ]
    }
   ],
   "source": [
    "import numpy as np\n",
    "\n",
    "def reduc_operation(a):\n",
    "    \"\"\"Compute the sum of the numbers in the range [0, a).\"\"\"\n",
    "    x = 0\n",
    "    for i in a:\n",
    "        x += i\n",
    "    return x\n",
    "\n",
    "# Secuencial\n",
    "\n",
    "value = sys.argv[0]\n",
    "value_array= np.array([i for i in range(value)])\n",
    "\n",
    "%timeit -r 2 reduc_operation(value_array)\n",
    "\n",
    "# Utilizando las operaciones mágicas de ipython\n",
    "%timeit -r 2 np.sum(value_array)\n",
    "suma = np.sum(value_array)\n",
    "\n",
    "print(f\"\\n \\t Computing the sum of numbers in the range [0, value): {suma}\\n\")"
   ]
  },
  {
   "cell_type": "markdown",
   "id": "62e86e58-7a63-4774-ba43-67fd8f0e1b9a",
   "metadata": {},
   "source": [
    "### 3.2 c)"
   ]
  },
  {
   "cell_type": "markdown",
   "id": "bb015b16-b225-4679-8142-6dbe697f72f3",
   "metadata": {},
   "source": [
    "Los reusltados obtenidos muestran que el procedimiento mas rapido es de lejos el metodo suma de los numpy array seguido por elmetodo suma de las listas, sin embargo llama la atencion que sumar los elementos de un array con un bucle for es por mucho la manera mas ineficiente de ejecutar esta tarea."
   ]
  },
  {
   "cell_type": "markdown",
   "id": "9f8290b2-4e6f-4561-81a4-57a12a67749e",
   "metadata": {},
   "source": [
    "### 3.3 a)"
   ]
  },
  {
   "cell_type": "code",
   "execution_count": 10,
   "id": "8663ab40-8b4a-47ff-8e00-75b90c3c6204",
   "metadata": {},
   "outputs": [
    {
     "name": "stdout",
     "output_type": "stream",
     "text": [
      "1.79 ms ± 2.89 µs per loop (mean ± std. dev. of 2 runs, 1 loop each)\n",
      "1.06 ms ± 4.78 µs per loop (mean ± std. dev. of 2 runs, 1 loop each)\n",
      "\n",
      " \t Computing the sum of numbers in the range [0, value): 499999500000\n",
      "\n"
     ]
    }
   ],
   "source": [
    "from numba import njit\n",
    "import numpy as np\n",
    "\n",
    "@njit\n",
    "def reduc_operation(a):\n",
    "    \"\"\"Compute the sum of the numbers in the range [0, a).\"\"\"\n",
    "    x = 0\n",
    "    for i in a:\n",
    "        x += i\n",
    "    return x\n",
    "\n",
    "# Secuencial\n",
    "\n",
    "value = sys.argv[0]\n",
    "value_array= np.array([i for i in range(value)])\n",
    "\n",
    "%timeit -r 2 reduc_operation(value_array)\n",
    "\n",
    "# Utilizando las operaciones mágicas de ipython\n",
    "\n",
    "@njit\n",
    "def arraysum(x):\n",
    "    return np.sum(x)\n",
    "    \n",
    "%timeit -r 2 arraysum(value_array)\n",
    "suma = np.sum(value_array)\n",
    "\n",
    "print(f\"\\n \\t Computing the sum of numbers in the range [0, value): {suma}\\n\")"
   ]
  },
  {
   "cell_type": "markdown",
   "id": "34b39d3e-24f6-4234-a5c6-0730f5185a32",
   "metadata": {},
   "source": [
    "### 3.3 b)"
   ]
  },
  {
   "cell_type": "markdown",
   "id": "89cff1c5-cf50-4268-8463-52aefaecc176",
   "metadata": {},
   "source": [
    "Utilizar el decorador @njit incrementa considerablemente el desempeño de ambas funciones, pero es mas evidente en el caso del for."
   ]
  },
  {
   "cell_type": "markdown",
   "id": "3f8e84a7-e5c7-4d5a-8b41-30fdc64ac062",
   "metadata": {},
   "source": [
    "### 3.3 c)"
   ]
  },
  {
   "cell_type": "markdown",
   "id": "0ba63ddd-3ad4-4aa8-8858-e0c6d4fe0a05",
   "metadata": {},
   "source": [
    "Modificar el cuaderno para que value sea un parametro de linea de comandos sys.argv[0]"
   ]
  }
 ],
 "metadata": {
  "kernelspec": {
   "display_name": "Python 3 (ipykernel)",
   "language": "python",
   "name": "python3"
  },
  "language_info": {
   "codemirror_mode": {
    "name": "ipython",
    "version": 3
   },
   "file_extension": ".py",
   "mimetype": "text/x-python",
   "name": "python",
   "nbconvert_exporter": "python",
   "pygments_lexer": "ipython3",
   "version": "3.10.9"
  }
 },
 "nbformat": 4,
 "nbformat_minor": 5
}
