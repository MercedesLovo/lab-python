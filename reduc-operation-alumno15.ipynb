{
 "cells": [
  {
   "cell_type": "markdown",
   "id": "f942d288-be01-42cd-9b84-83529c6769be",
   "metadata": {},
   "source": [
    "### Reduction operation: the sum of the numbers in the range [0, a)"
   ]
  },
  {
   "cell_type": "code",
   "execution_count": 1,
   "id": "496946fa-2a28-4c1d-8a6a-2ee0b8fd8ced",
   "metadata": {},
   "outputs": [
    {
     "name": "stdout",
     "output_type": "stream",
     "text": [
      "Time taken by reduction operation: 0.2699599266052246 seconds\n",
      "259 ms ± 491 µs per loop (mean ± std. dev. of 2 runs, 1 loop each)\n",
      "\n",
      " \t Computing the sum of numbers in the range [0, value): 499999500000\n",
      "\n"
     ]
    }
   ],
   "source": [
    "import time\n",
    "\n",
    "def reduc_operation(a):\n",
    "    \"\"\"Compute the sum of the numbers in the range [0, a).\"\"\"\n",
    "    x = 0\n",
    "    for i in range(a):\n",
    "        x += i\n",
    "    return x\n",
    "\n",
    "# Secuencial\n",
    "\n",
    "value = 1000000\n",
    "\n",
    "initialTime = time.time()\n",
    "suma = reduc_operation(value)\n",
    "finalTime = time.time()\n",
    "\n",
    "print(\"Time taken by reduction operation:\", (finalTime - initialTime), \"seconds\")\n",
    "\n",
    "# Utilizando las operaciones mágicas de ipython\n",
    "%timeit -r 2 reduc_operation(value)\n",
    "\n",
    "print(f\"\\n \\t Computing the sum of numbers in the range [0, value): {suma}\\n\")"
   ]
  },
  {
   "cell_type": "markdown",
   "id": "1e10b0f9-bfa4-4cea-9341-eca238d5d928",
   "metadata": {},
   "source": [
    "### 3.2 a)"
   ]
  },
  {
   "cell_type": "code",
   "execution_count": 11,
   "id": "e5911b7f-e50a-4315-af78-84291d69053f",
   "metadata": {},
   "outputs": [
    {
     "name": "stdout",
     "output_type": "stream",
     "text": [
      "294 ms ± 1.83 ms per loop (mean ± std. dev. of 2 runs, 1 loop each)\n",
      "30.4 ms ± 76.2 µs per loop (mean ± std. dev. of 2 runs, 10 loops each)\n",
      "\n",
      " \t Computing the sum of numbers in the range [0, value): 499999500000\n",
      "\n"
     ]
    }
   ],
   "source": [
    "def reduc_operation(a):\n",
    "    \"\"\"Compute the sum of the numbers in the range [0, a).\"\"\"\n",
    "    x = 0\n",
    "    for i in a:\n",
    "        x += i\n",
    "    return x\n",
    "\n",
    "# Secuencial\n",
    "\n",
    "value = [i for i in range(10**6)]\n",
    "\n",
    "%timeit -r 2 suma = reduc_operation(value)\n",
    "\n",
    "# Utilizando las operaciones mágicas de ipython\n",
    "%timeit -r 2 sum(value)\n",
    "\n",
    "print(f\"\\n \\t Computing the sum of numbers in the range [0, value): {suma}\\n\")"
   ]
  },
  {
   "cell_type": "markdown",
   "id": "d90e7f19-0661-4f37-a4dc-1d8e46a5ca91",
   "metadata": {},
   "source": [
    "### 3.2 b)"
   ]
  },
  {
   "cell_type": "code",
   "execution_count": 10,
   "id": "ba46d520-0e3f-4b90-bce1-2ce54b848364",
   "metadata": {},
   "outputs": [
    {
     "name": "stdout",
     "output_type": "stream",
     "text": [
      "625 ms ± 39.3 µs per loop (mean ± std. dev. of 2 runs, 1 loop each)\n",
      "1.44 ms ± 6.84 µs per loop (mean ± std. dev. of 2 runs, 1,000 loops each)\n",
      "\n",
      " \t Computing the sum of numbers in the range [0, value): 499999500000\n",
      "\n"
     ]
    }
   ],
   "source": [
    "import numpy as np\n",
    "\n",
    "def reduc_operation(a):\n",
    "    \"\"\"Compute the sum of the numbers in the range [0, a).\"\"\"\n",
    "    x = 0\n",
    "    for i in a:\n",
    "        x += i\n",
    "    return x\n",
    "\n",
    "# Secuencial\n",
    "\n",
    "value = np.array([i for i in range(10**6)])\n",
    "\n",
    "%timeit -r 2 suma = reduc_operation(value)\n",
    "\n",
    "# Utilizando las operaciones mágicas de ipython\n",
    "%timeit -r 2 np.sum(value)\n",
    "\n",
    "print(f\"\\n \\t Computing the sum of numbers in the range [0, value): {suma}\\n\")"
   ]
  },
  {
   "cell_type": "markdown",
   "id": "62e86e58-7a63-4774-ba43-67fd8f0e1b9a",
   "metadata": {},
   "source": [
    "### 3.2 c)"
   ]
  },
  {
   "cell_type": "markdown",
   "id": "bb015b16-b225-4679-8142-6dbe697f72f3",
   "metadata": {},
   "source": [
    "Los reusltados obtenidos muestran que el procedimiento mas rapido es de lejos el metodo suma de los numpy array seguido por elmetodo suma de las listas, sin embargo llama la atencion que sumar los elementos de un array con un bucle for es por mucho la manera mas ineficiente de ejecutar esta tarea."
   ]
  }
 ],
 "metadata": {
  "kernelspec": {
   "display_name": "Python 3 (ipykernel)",
   "language": "python",
   "name": "python3"
  },
  "language_info": {
   "codemirror_mode": {
    "name": "ipython",
    "version": 3
   },
   "file_extension": ".py",
   "mimetype": "text/x-python",
   "name": "python",
   "nbconvert_exporter": "python",
   "pygments_lexer": "ipython3",
   "version": "3.10.9"
  }
 },
 "nbformat": 4,
 "nbformat_minor": 5
}
